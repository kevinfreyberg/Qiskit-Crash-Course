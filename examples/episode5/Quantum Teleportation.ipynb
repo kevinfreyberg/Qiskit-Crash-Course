{
 "cells": [
  {
   "cell_type": "code",
   "execution_count": 104,
   "metadata": {},
   "outputs": [
    {
     "name": "stderr",
     "output_type": "stream",
     "text": [
      "ibmqfactory.load_account:WARNING:2020-12-02 00:56:21,871: Credentials are already in use. The existing account in the session will be replaced.\n"
     ]
    }
   ],
   "source": [
    "%matplotlib inline\n",
    "import numpy as np\n",
    "from qiskit import *\n",
    "#from qiskit.visualization import *\n",
    "#from qiskit.extensions import *\n",
    "#from qiskit_textbook.tools import *\n",
    "import math\n",
    "# Loading your IBM Q account(s)\n",
    "provider = IBMQ.load_account()"
   ]
  },
  {
   "cell_type": "code",
   "execution_count": 109,
   "metadata": {},
   "outputs": [
    {
     "data": {
      "image/png": "[encoded data removed]",
      "text/plain": [
       "<Figure size 504x360 with 1 Axes>"
      ]
     },
     "execution_count": 109,
     "metadata": {},
     "output_type": "execute_result"
    }
   ],
   "source": [
    "def simulate(circuit): # this is a helper function for simulating and displaying a histogram\n",
    "    backend = Aer.get_backend('qasm_simulator')\n",
    "    counts = execute(circuit, backend, shots=1000).result().get_counts()\n",
    "    return plot_histogram(counts)\n",
    "\n",
    "def bell_pair(circuit, q0, q1): # entangles qubits, this is a supplementary function\n",
    "    circuit.h(q0) \n",
    "    circuit.cx(q0, q1) \n",
    "\n",
    "cr1 = ClassicalRegister(1, name = \"classicalBit1\") # Classical bit 1\n",
    "cr2 = ClassicalRegister(1, name = \"classicalBit2\") # Classical bit 2\n",
    "c_result = ClassicalRegister(1, name = \"teleportedState\") # Classical result\n",
    "\n",
    "qubit0 = QuantumRegister(1, name = \"psi\") # The quantum state we want to send\n",
    "qubit1 = QuantumRegister(1, name = \"a\") # Alice's qubit\n",
    "qubit2 = QuantumRegister(1, name = \"b\") # Bob's qubit\n",
    "\n",
    "circuit = QuantumCircuit(qubit0, qubit1, qubit2, cr1, cr2, c_result) # Creating our circuit\n",
    "\n",
    "psi = [0, 1] # We want to send |1> to Bob\n",
    "circuit.initialize(psi, qubit0) # Set the quantum state to Psi\n",
    "\n",
    "circuit.h(qubit1) # Apply Hadamard to Alice's qubit\n",
    "circuit.cnot(qubit1, qubit2) # Perform CNOT with Alice's qubit as the control, and Bob's qubit as the target\n",
    "circuit.barrier() # Separate our gates so we can see the circuit better\n",
    "circuit.cnot(qubit0, qubit1) # Perform CNOT with Psi as the control, and Alice's qubit as the target\n",
    "circuit.h(qubit0) # Apply Hadamard to Psi\n",
    "circuit.barrier() # Once again, separate our gates so we can see the circuit better\n",
    "\n",
    "circuit.measure(qubit0, cr1) # Alice measures Psi to our first classical bit\n",
    "circuit.measure(qubit1, cr2) # Alice measures her qubit to our second classical bit\n",
    "\n",
    "circuit.z(qubit2).c_if(cr1, 1) # Apply Z-gate if the first classical bit is 1\n",
    "circuit.x(qubit2).c_if(cr2, 1) # Apply X-gate if the second classical bit is 1\n",
    "\n",
    "circuit.measure(qubit2, c_result) # Measure Bob's qubit to c_result\n",
    "\n",
    "simulate(circuit)\n"
   ]
  },
  {
   "cell_type": "code",
   "execution_count": null,
   "metadata": {},
   "outputs": [],
   "source": []
  }
 ],
 "metadata": {
  "kernelspec": {
   "display_name": "Python 3",
   "language": "python",
   "name": "python3"
  },
  "language_info": {
   "codemirror_mode": {
    "name": "ipython",
    "version": 3
   },
   "file_extension": ".py",
   "mimetype": "text/x-python",
   "name": "python",
   "nbconvert_exporter": "python",
   "pygments_lexer": "ipython3",
   "version": "3.7.8"
  }
 },
 "nbformat": 4,
 "nbformat_minor": 4
}
