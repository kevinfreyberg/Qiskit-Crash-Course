{
 "cells": [
  {
   "cell_type": "code",
   "execution_count": 4,
   "metadata": {},
   "outputs": [
    {
     "name": "stderr",
     "output_type": "stream",
     "text": [
      "ibmqfactory.load_account:WARNING:2020-12-12 06:15:23,951: Credentials are already in use. The existing account in the session will be replaced.\n"
     ]
    }
   ],
   "source": [
    "%matplotlib inline\n",
    "# Importing standard Qiskit libraries and configuring account\n",
    "from qiskit import *\n",
    "from qiskit.compiler import transpile, assemble\n",
    "from qiskit.tools.jupyter import *\n",
    "from qiskit.visualization import *\n",
    "import math\n",
    "# Loading your IBM Q account(s)\n",
    "provider = IBMQ.load_account()"
   ]
  },
  {
   "cell_type": "code",
   "execution_count": 24,
   "metadata": {},
   "outputs": [
    {
     "name": "stdout",
     "output_type": "stream",
     "text": [
      "Counts:  {'1': 1000}\n"
     ]
    }
   ],
   "source": [
    "def simulate(circuit):\n",
    "    backend = Aer.get_backend('qasm_simulator')\n",
    "    job = execute(circuit, backend, shots=1000) # Simulate our circuit 1000 times\n",
    "    result = job.result()\n",
    "    data = result.get_counts() # Retrieve data\n",
    "    print(\"Counts: \", data) # Present data\n",
    "\n",
    "def simulateBlochSphere(circuit):\n",
    "    backend = Aer.get_backend('statevector_simulator') # Loads the statevector simulator\n",
    "    job = execute(circuit,backend).result().get_statevector() # Retrives results and statevector from simulation\n",
    "    return plot_bloch_multivector(job) # Presents the Bloch sphere\n",
    "\n",
    "qubit0 = QuantumRegister(1, name = \"qubit0\") # Create a qubit on the quantum register\n",
    "classic_bit0 = ClassicalRegister(1, name = \"classic_bit0\") # Create a classic bit on the classical register\n",
    "circuit = QuantumCircuit(qubit0, classic_bit0) # Create a quantum circuit from our qubit/bit\n",
    "\n",
    "state = [0, 1] # This is a vector in the form of a list: [alpha, beta]\n",
    "circuit.initialize(state, qubit0) # Initializes qubit0 to state |1⟩\n",
    "\n",
    "# Refer to the relation defined above and write your code below using only R(phi) and H-gates. \n",
    "\n",
    "circuit.rz(math.pi/2, qubit0)\n",
    "circuit.h(qubit0)\n",
    "circuit.rz(math.pi, qubit0)\n",
    "circuit.h(qubit0)\n",
    "circuit.rz(math.pi, qubit0)\n",
    "circuit.rz(math.pi/2, qubit0)\n",
    "\n",
    "circuit.measure(qubit0, classic_bit0) # Perform Z-measurement\n",
    "simulate(circuit)"
   ]
  },
  {
   "cell_type": "code",
   "execution_count": null,
   "metadata": {},
   "outputs": [],
   "source": []
  }
 ],
 "metadata": {
  "kernelspec": {
   "display_name": "Python 3",
   "language": "python",
   "name": "python3"
  },
  "language_info": {
   "codemirror_mode": {
    "name": "ipython",
    "version": 3
   },
   "file_extension": ".py",
   "mimetype": "text/x-python",
   "name": "python",
   "nbconvert_exporter": "python",
   "pygments_lexer": "ipython3",
   "version": "3.7.8"
  }
 },
 "nbformat": 4,
 "nbformat_minor": 4
}
